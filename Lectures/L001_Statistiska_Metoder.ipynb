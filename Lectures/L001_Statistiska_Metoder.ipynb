{
 "cells": [
  {
   "cell_type": "code",
   "execution_count": null,
   "metadata": {},
   "outputs": [],
   "source": []
  },
  {
   "cell_type": "markdown",
   "metadata": {},
   "source": [
    "## Datatyper \n",
    "Data kategoriseras på olika sätt:\n",
    "\n",
    "* **Nominal** - apa, elefant, lejon, zebra, flodhäst\n",
    "* **Ordinal** - kallt, mittemellan, hög\n",
    "* **Intervall** - 0\n",
    "* **Kvot** - 0K, 10K, 20K, 30K\n"
   ]
  },
  {
   "cell_type": "markdown",
   "metadata": {},
   "source": []
  }
 ],
 "metadata": {
  "language_info": {
   "name": "python"
  }
 },
 "nbformat": 4,
 "nbformat_minor": 2
}
