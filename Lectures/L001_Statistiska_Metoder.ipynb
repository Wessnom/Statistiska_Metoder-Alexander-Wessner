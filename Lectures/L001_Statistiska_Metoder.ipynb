{
 "cells": [
  {
   "cell_type": "code",
   "execution_count": null,
   "metadata": {},
   "outputs": [],
   "source": []
  },
  {
   "cell_type": "markdown",
   "metadata": {},
   "source": [
    "## Datatyper \n",
    "Data kategoriseras på olika sätt:\n",
    "\n",
    "* **Nominal** (*Nominal*) - apa, elefant, lejon, zebra, flodhäst\n",
    "* **Ordinal** (*Ordinal*) - kallt, mittemellan, hög\n",
    "* **Intervall** (*Interval*) - 0°C, 10°C, 20°C, 30°C\n",
    "* **Kvot** (*Ratio*) - 0K, 10K, 20K, 30K\n",
    "<br>\n",
    "\n",
    "* **Diskret** - 0, 1, 2, 3, 4....\n",
    "* **Kontinuerlig** - 0.31, 4.58, 7.647234174"
   ]
  },
  {
   "cell_type": "markdown",
   "metadata": {},
   "source": [
    "## Populationstadata\n",
    "Populationsdata beskriver *alla* värden i en data mängd:\n",
    "* Alla invånare i Sverige\n",
    "* Alla anställda på ett visst företag\n",
    "* Alla besökare till en restaurang\n",
    "<br>\n",
    "\n",
    "Populationsdata är mycket sällan tillgängligt för statistiker.\n",
    "* Urvalet är för stort, eller oändligt\n",
    "* Urvalet är destruktivt \n",
    "\n",
    "## Stickprov\n",
    "Ett stickprov (eng. sample), är en mindre mängd observationer av en population.\n",
    "\n",
    "De flesta beräkniungar och uppskattningar i den här kursen kommer utgå från stickprov. \n",
    "\n",
    "Att genomföra stickprov på ett korrekt sätt kan vara en hel kurs i sig självt, och beror på många faktorer.\n",
    "* Statistisk styrka\n",
    "* Ekonomisk fråga, omkostnad\n",
    "* Datahantering\n",
    "* Databehandling\n",
    "* Etik\n",
    "\n",
    "**OSU** *Oberoende Slumpmässigt Urval\n",
    "<br>\n",
    "**SRS** *Simple Random Sample\n",
    "- Ett OSU är ett urval från en population där alla datapunkter väljs slumpmässigt, med samma sannolikhet.\n",
    "- I praktiken inte alltid enkelt att genomföra, men en bra teoretisk utgångspunkt.\n"
   ]
  },
  {
   "cell_type": "markdown",
   "metadata": {},
   "source": [
    "## Centraltendens\n",
    "\n",
    "Vad är \"centrum\" i en datamängd?\n",
    "- Typvärde - mest vanligt förekommande värdet i en datamängd\n",
    "- Median - mittpunkten\n",
    "- Medelvärde (aritmetiskt medelvärde): ![Aritmetiskt_Medelvärde](../assets/aritmetiskt_medelvärde.svg)\n",
    "- Geometriskt medelvärde:\n",
    "- Harmoniskt medelvärde: \n",
    "- Interkvartilt medelvärde: medelvärde av en kvarti\n",
    "\n",
    "## Typvärde\n",
    "\n",
    "Typvärdet (eng. Mode) är det värde som förekommer oftast i en datamängd\n",
    "\n",
    "Exempel - Bilar på en parkeringsplatgs har följande färger:\n",
    "{Röd; Svart; Svart; Vit; Blå; Vit; Svart; Röd}\n",
    "\n",
    "Typvärdet för färg på bilar är: \n",
    "Svart (3 ggr)\n",
    "\n",
    "## Median\n",
    "\n",
    "Medianen är det värde som hamnar i mitten av datamängden då den ordnats i storleksordning\n",
    "- Om antalet datapunkter är jämnt, är medianen mitt mellan mittenvärdena.\n",
    "\n",
    "## Medelvärde \n",
    "\n",
    "Formellt, aritmetiskt medelvärde (eng. arithmetic mean)\n",
    "\n",
    "Summan av alla värden, dividerat med antal värden:\n",
    "![Aritmetiskt_Medelvärde](../assets/aritmetiskt_medelvärde.svg)\n",
    "\n",
    "## Spridningsmått\n",
    "- Varians \n",
    "- Standardavvikelse\n",
    "- Kvartilavstånd, Q1 Q2, Q3 Kvartil 1 Kvartil 2 Kvartil 3 (inte att förknippas med Kvartal Q1-Q4)\n",
    "- Medelabsolutavvikelse\n",
    " "
   ]
  },
  {
   "cell_type": "markdown",
   "metadata": {},
   "source": []
  }
 ],
 "metadata": {
  "language_info": {
   "name": "python"
  }
 },
 "nbformat": 4,
 "nbformat_minor": 2
}
